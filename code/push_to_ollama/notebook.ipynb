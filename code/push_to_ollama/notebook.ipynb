{
 "cells": [
  {
   "cell_type": "code",
   "execution_count": null,
   "id": "4def4709-e4a3-4380-87c6-e23129fb00e2",
   "metadata": {},
   "outputs": [],
   "source": [
    "!curl -fsSL https://ollama.com/install.sh | sh\n",
    "# run ollama serve in a seperate terminal"
   ]
  },
  {
   "cell_type": "code",
   "execution_count": null,
   "id": "7d89e72d-ec0d-4712-bcc3-c2511a55ef8b",
   "metadata": {},
   "outputs": [],
   "source": [
    "!ollama create username/repo_id -f Modelfile"
   ]
  },
  {
   "cell_type": "code",
   "execution_count": null,
   "id": "7a7aa134-7f5d-48b5-ab76-fe0216492869",
   "metadata": {},
   "outputs": [],
   "source": [
    "!python key.py"
   ]
  },
  {
   "cell_type": "code",
   "execution_count": null,
   "id": "54d8cbb8-afe4-491c-bf38-4963bdde0f39",
   "metadata": {},
   "outputs": [],
   "source": [
    "!ollama list"
   ]
  },
  {
   "cell_type": "code",
   "execution_count": null,
   "id": "0c3fea38-e9d5-449f-8831-903a8f200de4",
   "metadata": {},
   "outputs": [],
   "source": [
    "!ollama push username/repo_id"
   ]
  }
 ],
 "metadata": {
  "kernelspec": {
   "display_name": "Python 3 (ipykernel)",
   "language": "python",
   "name": "python3"
  },
  "language_info": {
   "codemirror_mode": {
    "name": "ipython",
    "version": 3
   },
   "file_extension": ".py",
   "mimetype": "text/x-python",
   "name": "python",
   "nbconvert_exporter": "python",
   "pygments_lexer": "ipython3",
   "version": "3.10.12"
  }
 },
 "nbformat": 4,
 "nbformat_minor": 5
}
